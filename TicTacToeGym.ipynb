{
 "cells": [
  {
   "cell_type": "markdown",
   "id": "f136a305-2f12-45dd-b23e-81140dfb23c1",
   "metadata": {},
   "source": [
    "## Intro"
   ]
  },
  {
   "cell_type": "markdown",
   "id": "ea805915-260b-4c91-95ba-85f5f86e52d0",
   "metadata": {},
   "source": [
    "This notebook represents a group effort in evaluating the performance of classifiers and regressors in the context of a tic-tac-toe game. Collaboratively, we explored the effectiveness of various machine learning models using provided datasets. Our analysis involved generating accuracy scores and confusion matrices to assess the performance of different algorithms."
   ]
  },
  {
   "cell_type": "markdown",
   "id": "ed83e285-3582-41d6-b1d2-157404a1a6a7",
   "metadata": {},
   "source": [
    "+ X = +1 \n",
    "+ O = -1\n",
    "+ Empty squre = 0\n",
    "\n",
    "+ Goal: produce reasonable moves for player O"
   ]
  },
  {
   "cell_type": "code",
   "execution_count": 1,
   "id": "dc48e0f3-9e50-4b7b-a613-3acfc26ee551",
   "metadata": {
    "tags": []
   },
   "outputs": [],
   "source": [
    "import numpy as np\n",
    "from sklearn.model_selection import cross_val_score, KFold, train_test_split\n",
    "from sklearn.metrics import accuracy_score, confusion_matrix\n",
    "from sklearn.svm import SVC\n",
    "from sklearn.neighbors import KNeighborsClassifier \n",
    "from sklearn.neural_network import MLPClassifier\n",
    "from sklearn.linear_model import LinearRegression\n",
    "from sklearn.neural_network import MLPRegressor\n",
    "from sklearn.neighbors import KNeighborsRegressor\n",
    "import warnings"
   ]
  },
  {
   "cell_type": "markdown",
   "id": "295a49fc-11b1-4535-832a-1eb9f6533410",
   "metadata": {},
   "source": [
    "### 1. Load datasets"
   ]
  },
  {
   "cell_type": "code",
   "execution_count": 2,
   "id": "abc249f8-4c43-4f78-af88-ae17ba0ea064",
   "metadata": {
    "tags": []
   },
   "outputs": [],
   "source": [
    "# Load intermediate boards optimal play (single label) dataset\n",
    "single_data = np.loadtxt(\"data/tictac_single.txt\")\n",
    "single_X = single_data[:, :-1]\n",
    "single_y = single_data[:, -1]"
   ]
  },
  {
   "cell_type": "code",
   "execution_count": 3,
   "id": "943bad0d-34aa-4f93-8f35-48043cd42098",
   "metadata": {
    "tags": []
   },
   "outputs": [],
   "source": [
    "# Load intermediate boards optimal play (multi label) dataset\n",
    "multi_data = np.loadtxt(\"data/tictac_multi.txt\")\n",
    "multi_X = multi_data[:, :-9]\n",
    "multi_y = multi_data[:, -9:]"
   ]
  },
  {
   "cell_type": "code",
   "execution_count": 4,
   "id": "f69948fc-983c-4a96-8035-a5a422f36199",
   "metadata": {
    "tags": []
   },
   "outputs": [],
   "source": [
    "# Load final boards classification dataset\n",
    "final_data = np.loadtxt(\"data/tictac_final.txt\")\n",
    "final_X = final_data[:, :-1]\n",
    "final_y = final_data[:, -1]"
   ]
  },
  {
   "cell_type": "markdown",
   "id": "1cf7404f-0c34-4d49-b800-bf16476f45e4",
   "metadata": {
    "tags": []
   },
   "source": [
    "### 2. Define classifiers and regressors"
   ]
  },
  {
   "cell_type": "code",
   "execution_count": 5,
   "id": "193af192-f923-477c-b9bd-913becef9445",
   "metadata": {
    "tags": []
   },
   "outputs": [],
   "source": [
    "# Classifiers\n",
    "classifiers = {\n",
    "    \"LinearSVM\": SVC(kernel=\"linear\"),\n",
    "    \"KNN_classifier\": KNeighborsClassifier(n_neighbors=5),\n",
    "    \"MLP_classifier\": MLPClassifier(hidden_layer_sizes=(100,), max_iter=1000)\n",
    "}\n",
    "\n",
    "\n",
    "# Regressors\n",
    "regressors = {\n",
    "    \"Linear Regression\": LinearRegression(),\n",
    "    \"KNN_regressor\": KNeighborsRegressor(n_neighbors=5),\n",
    "    \"MLP_regressor\": MLPRegressor(hidden_layer_sizes=(100,), max_iter=1000)\n",
    "}\n"
   ]
  },
  {
   "cell_type": "markdown",
   "id": "20778b0d-44b3-4232-b4ca-9cac71c48c8c",
   "metadata": {},
   "source": [
    "### 3. Evaluate classifiers and regressors"
   ]
  },
  {
   "cell_type": "code",
   "execution_count": 6,
   "id": "c04184e3-aadd-4050-a7fe-3eab66cd146f",
   "metadata": {
    "tags": []
   },
   "outputs": [],
   "source": [
    "cv = KFold(n_splits=10, shuffle=True, random_state=42) # KFold with 10 folds, shuffling, and fixed random seed\n",
    "\n",
    "\n",
    "# Function to evaluate classifiers\n",
    "def evaluate_classifiers(X, y, classifiers):\n",
    "    results = {}\n",
    "    for name, clf in classifiers.items():\n",
    "        scores = cross_val_score(clf, X, y, cv=cv)\n",
    "        results[name] = scores\n",
    "    return results\n",
    "\n",
    "\n",
    "# Function to evaluate regressors\n",
    "def evaluate_regressors(X, y, regressors):\n",
    "    results = {}\n",
    "    for name, reg in regressors.items():\n",
    "        scores = cross_val_score(reg, X, y, cv=cv)\n",
    "        results[name] = scores\n",
    "    return results"
   ]
  },
  {
   "cell_type": "code",
   "execution_count": 7,
   "id": "a5ba8cb6-9d38-4610-97b0-066c69a9b7df",
   "metadata": {
    "tags": []
   },
   "outputs": [],
   "source": [
    "warnings.filterwarnings(\"ignore\")\n",
    "\n",
    "\n",
    "# Function to print evaluated classifiers\n",
    "def print_evaluated_classifiers():\n",
    "    print(\"Final Boards Classification:\")\n",
    "    final_results_classifiers = evaluate_classifiers(final_X, final_y, classifiers)\n",
    "\n",
    "    for name, scores in final_results_classifiers.items():\n",
    "        print(f\"{name}:\\nAccuracy: {scores.mean():.3f}\")\n",
    "\n",
    "        # Confusion Matrix\n",
    "        X_train, X_test, y_train, y_test = train_test_split(final_X, final_y, test_size=0.2, random_state=42)\n",
    "        clf = classifiers[name]\n",
    "        clf.fit(X_train, y_train)\n",
    "        y_pred = clf.predict(X_test)\n",
    "        print(f\"Confusion Matrix for {name}:\\n{confusion_matrix(y_test, y_pred)}\\n\")\n",
    "\n",
    "\n",
    "\n",
    "\n",
    "    print(\"Intermediate Boards Optimal Play (Single Label):\")\n",
    "    single_results_classifiers = evaluate_classifiers(single_X, single_y, classifiers)\n",
    "\n",
    "    for name, scores in single_results_classifiers.items():\n",
    "        print(f\"{name}:\\nAccuracy: {scores.mean():.3f}\")\n",
    "\n",
    "        # Confusion Matrix\n",
    "        X_train, X_test, y_train, y_test = train_test_split(single_X, single_y, test_size=0.2, random_state=42)\n",
    "        clf = classifiers[name]\n",
    "        clf.fit(X_train, y_train)\n",
    "        y_pred = clf.predict(X_test)\n",
    "        print(f\"Confusion Matrix for {name}:\\n{confusion_matrix(y_test, y_pred)}\\n\")\n",
    "\n",
    "    \n",
    "    \n",
    "# Function to print evaluated regressors\n",
    "def print_evaluated_regressors():\n",
    "    print(\"Intermediate Boards Optimal Play (Multi Label):\")\n",
    "    multi_results_regressors = evaluate_regressors(multi_X, multi_y, regressors)\n",
    "\n",
    "    for name, scores in multi_results_regressors.items():\n",
    "        print(f\"{name}:\\n Accuracy: {scores.mean():.3f}\")\n"
   ]
  },
  {
   "cell_type": "code",
   "execution_count": 8,
   "id": "ebc93d55-a531-4a57-b9a5-06f458cc8604",
   "metadata": {
    "tags": []
   },
   "outputs": [
    {
     "name": "stdout",
     "output_type": "stream",
     "text": [
      "Final Boards Classification:\n",
      "LinearSVM:\n",
      "Accuracy: 0.983\n",
      "Confusion Matrix for LinearSVM:\n",
      "[[ 61   6]\n",
      " [  0 125]]\n",
      "\n",
      "KNN_classifier:\n",
      "Accuracy: 0.999\n",
      "Confusion Matrix for KNN_classifier:\n",
      "[[ 66   1]\n",
      " [  0 125]]\n",
      "\n",
      "MLP_classifier:\n",
      "Accuracy: 0.985\n",
      "Confusion Matrix for MLP_classifier:\n",
      "[[ 62   5]\n",
      " [  0 125]]\n",
      "\n",
      "Intermediate Boards Optimal Play (Single Label):\n",
      "LinearSVM:\n",
      "Accuracy: 0.365\n",
      "Confusion Matrix for LinearSVM:\n",
      "[[321   0   0   0   0   0   0   0   0]\n",
      " [ 73  18  26   0  36   0   0   0   0]\n",
      " [104   0  56   0  35   0   0   0   0]\n",
      " [ 75   5  15   3  20   0   0   0   0]\n",
      " [130   0   0   0  89   0   0   0   0]\n",
      " [ 42   6  16   0   6   0   0   0   0]\n",
      " [ 56   6  18   3  11   0   0   0   0]\n",
      " [ 26  10  14   0   3   0   0   0   0]\n",
      " [ 58   5  24   0   4   0   0   0   0]]\n",
      "\n",
      "KNN_classifier:\n",
      "Accuracy: 0.761\n",
      "Confusion Matrix for KNN_classifier:\n",
      "[[278   5  13   1  11   3   8   0   2]\n",
      " [  6 110   7  10  11   0   5   0   4]\n",
      " [ 20   7 152   5   4   1   3   0   3]\n",
      " [ 16   8   5  74   8   1   3   1   2]\n",
      " [ 21   8   4  10 173   3   0   0   0]\n",
      " [  3   5   7   2   0  53   0   0   0]\n",
      " [  8   2   4   5   2   0  71   1   1]\n",
      " [  3  10   2   3   1   2   3  29   0]\n",
      " [ 11   5   4   3   5   4   0   3  56]]\n",
      "\n",
      "MLP_classifier:\n",
      "Accuracy: 0.929\n",
      "Confusion Matrix for MLP_classifier:\n",
      "[[301   5   0   2   7   3   2   0   1]\n",
      " [  0 140   4   1   3   2   2   0   1]\n",
      " [  8   3 176   5   3   0   0   0   0]\n",
      " [  0   0   1 102   3   0   5   1   6]\n",
      " [  8   3   1   1 201   2   3   0   0]\n",
      " [  0   1   0   1   0  66   0   0   2]\n",
      " [  1   3   2   1   0   2  85   0   0]\n",
      " [  0   4   0   4   0   0   0  45   0]\n",
      " [  1   2   1   0   0   1   0   0  86]]\n",
      "\n",
      "Intermediate Boards Optimal Play (Multi Label):\n",
      "Linear Regression:\n",
      " Accuracy: 0.001\n",
      "KNN_regressor:\n",
      " Accuracy: 0.573\n",
      "MLP_regressor:\n",
      " Accuracy: 0.592\n"
     ]
    }
   ],
   "source": [
    "print_evaluated_classifiers()\n",
    "print_evaluated_regressors()"
   ]
  },
  {
   "cell_type": "markdown",
   "id": "889cec09-81f9-4849-8d44-29dc48523032",
   "metadata": {},
   "source": [
    "### 4. Tuning the models"
   ]
  },
  {
   "cell_type": "code",
   "execution_count": 9,
   "id": "cf40c222-902b-4bc4-9d07-0ea4d5a204bb",
   "metadata": {
    "tags": []
   },
   "outputs": [
    {
     "name": "stdout",
     "output_type": "stream",
     "text": [
      "Final Boards Classification:\n",
      "LinearSVM:\n",
      "Accuracy: 0.983\n",
      "Confusion Matrix for LinearSVM:\n",
      "[[ 61   6]\n",
      " [  0 125]]\n",
      "\n",
      "KNN_classifier:\n",
      "Accuracy: 0.999\n",
      "Confusion Matrix for KNN_classifier:\n",
      "[[ 66   1]\n",
      " [  0 125]]\n",
      "\n",
      "MLP_classifier:\n",
      "Accuracy: 0.992\n",
      "Confusion Matrix for MLP_classifier:\n",
      "[[ 63   4]\n",
      " [  0 125]]\n",
      "\n",
      "Intermediate Boards Optimal Play (Single Label):\n",
      "LinearSVM:\n",
      "Accuracy: 0.365\n",
      "Confusion Matrix for LinearSVM:\n",
      "[[321   0   0   0   0   0   0   0   0]\n",
      " [ 73  18  26   0  36   0   0   0   0]\n",
      " [104   0  56   0  35   0   0   0   0]\n",
      " [ 75   5  15   3  20   0   0   0   0]\n",
      " [130   0   0   0  89   0   0   0   0]\n",
      " [ 42   6  16   0   6   0   0   0   0]\n",
      " [ 56   6  18   3  11   0   0   0   0]\n",
      " [ 26  10  14   0   3   0   0   0   0]\n",
      " [ 58   5  24   0   4   0   0   0   0]]\n",
      "\n",
      "KNN_classifier:\n",
      "Accuracy: 0.911\n",
      "Confusion Matrix for KNN_classifier:\n",
      "[[299   0   8   0   3   3   6   2   0]\n",
      " [  3 130   4   4   4   0   2   2   4]\n",
      " [ 12   3 178   2   0   0   0   0   0]\n",
      " [ 11   6   3  92   3   0   1   0   2]\n",
      " [ 12   7   2   0 197   1   0   0   0]\n",
      " [  1   2   4   2   0  61   0   0   0]\n",
      " [  3   3   0   0   4   0  84   0   0]\n",
      " [  0   5   0   2   1   0   1  44   0]\n",
      " [  6   4   2   0   2   2   0   0  75]]\n",
      "\n",
      "MLP_classifier:\n",
      "Accuracy: 0.949\n",
      "Confusion Matrix for MLP_classifier:\n",
      "[[311   1   5   0   0   2   2   0   0]\n",
      " [  2 138   3   0   1   0   4   4   1]\n",
      " [  6   1 180   2   3   0   3   0   0]\n",
      " [  0   2   0 112   0   0   3   0   1]\n",
      " [  7   3   0   0 207   0   2   0   0]\n",
      " [  0   0   0   0   0  70   0   0   0]\n",
      " [  1   3   0   1   0   0  89   0   0]\n",
      " [  0   0   0   4   0   0   0  49   0]\n",
      " [  2   2   1   0   2   1   0   0  83]]\n",
      "\n"
     ]
    }
   ],
   "source": [
    "best_knn_classifier = KNeighborsClassifier(n_neighbors = 6, weights= 'distance')\n",
    "classifiers[\"KNN_classifier\"] = best_knn_classifier\n",
    "\n",
    "best_mlp_classifier = MLPClassifier(hidden_layer_sizes=(100, 50), max_iter=1000, alpha=0.0001, learning_rate_init=0.001)\n",
    "classifiers[\"MLP_classifier\"] = best_mlp_classifier\n",
    "print_evaluated_classifiers()"
   ]
  },
  {
   "cell_type": "code",
   "execution_count": 10,
   "id": "4e37fd82-8b7e-445b-8f78-ec2b3e57c885",
   "metadata": {
    "tags": []
   },
   "outputs": [
    {
     "name": "stdout",
     "output_type": "stream",
     "text": [
      "Intermediate Boards Optimal Play (Multi Label):\n",
      "Linear Regression:\n",
      " Accuracy: 0.001\n",
      "KNN_regressor:\n",
      " Accuracy: 0.851\n",
      "MLP_regressor:\n",
      " Accuracy: 0.853\n"
     ]
    }
   ],
   "source": [
    "best_knn_regressor = KNeighborsRegressor(metric='euclidean', n_neighbors=6, weights='distance')\n",
    "\n",
    "best_mlp_regressor = MLPRegressor(hidden_layer_sizes=(300, 200, 100), max_iter=1000, alpha=0.0001, learning_rate='adaptive', learning_rate_init=0.001)\n",
    "\n",
    "regressors[\"KNN_regressor\"] = best_knn_regressor\n",
    "regressors[\"MLP_regressor\"] = best_mlp_regressor\n",
    "\n",
    "print_evaluated_regressors()"
   ]
  },
  {
   "cell_type": "markdown",
   "id": "cf6a5307-0d32-49cc-8205-3df3a66e7fac",
   "metadata": {},
   "source": [
    "### 5. Results"
   ]
  },
  {
   "cell_type": "markdown",
   "id": "657acd9e-c25e-4d8a-8a3c-5ff8e5f657d6",
   "metadata": {},
   "source": [
    "1) Final Boards Classification:\n",
    "     + Linear SVM achieved an accuracy of 98.3%.\n",
    "     + KNN classifier achieved an accuracy of 99.9%.\n",
    "     + MLP classifier achieved an accuracy of 99.2%.\n",
    "2) Intermediate Boards Optimal Play (Single Label):\n",
    "     + Linear SVM achieved an accuracy of 37.1%.\n",
    "     + KNN classifier achieved an accuracy of 91.1%.\n",
    "     + MLP classifier achieved an accuracy of 94.9%.\n",
    "3) Intermediate Boards Optimal Play (Multi Label):\n",
    "     + Linear Regression achieved an accuracy of 0.1%.\n",
    "     + KNN regressor achieved an accuracy of 85.1%.\n",
    "     + MLP regressor achieved an accuracy of 85.3%."
   ]
  },
  {
   "cell_type": "markdown",
   "id": "fea8de19-39bf-4020-a872-f4a18ae5c427",
   "metadata": {},
   "source": [
    "Reasoning: \n",
    " + The \"Final Boards Classification\" task involves predicting the winning player based on the final state of the game. All three classifiers (Linear SVM, KNN, and MLP) performed exceptionally well, with high accuracies above 98%. This is likely because the final state of the game contains clear patterns that these classifiers were able to learn effectively.\n",
    " + In contrast, the \"Intermediate Boards Optimal Play (Single Label)\" task involves predicting the best move for the O player based on the current state of the game. Here, the MLP classifier outperformed the others with an accuracy of 94.9%. MLP's success could be attributed to its ability to capture complex patterns in the data, which are necessary for making optimal move predictions in a dynamic game like tic-tac-toe.\n",
    " + The \"Intermediate Boards Optimal Play (Multi Label)\" task aims to predict multiple optimal moves for the O player. MLP regressor performed slightly better than KNN regressor and linear regression, possibly due to its ability to handle non-linear relationships and capture complex interactions between the game board features and the optimal moves.\n",
    " \n",
    "Overall, MLP (both classifier and regressor) demonstrated superior performance in capturing the complex patterns present in the tic-tac-toe game, resulting in better predictive accuracy compared to other methods. Also, the nature of the task (classification or regression) influenced the choice of the best-performing model. Specifically, we chose the MLP classifier for the game implementation due to its high accuracy and robust performance across both classification tasks: final boards classification and intermediate boards optimal play. With an accuracy of 94.9% for intermediate boards optimal play, the MLP classifier outperformed the other classifiers, including Linear SVM and KNN. \n",
    "Additionally, the confusion matrices revealed that the MLP classifier achieved better balance in predicting optimal moves across different board configurations compared to the other classifiers. The MLP's ability to capture complex patterns in the data through its multilayer architecture likely contributed to its superior performance, making it a suitable choice for accurately predicting optimal moves in the tic-tac-toe game implementation."
   ]
  },
  {
   "cell_type": "markdown",
   "id": "6f59bd3d-f2ba-4382-9923-50c566089846",
   "metadata": {
    "tags": []
   },
   "source": [
    "### 6. Saving the model"
   ]
  },
  {
   "cell_type": "code",
   "execution_count": 11,
   "id": "6acbacaf-f7a6-44f7-9858-49d6d15be46e",
   "metadata": {
    "tags": []
   },
   "outputs": [
    {
     "data": {
      "text/plain": [
       "['model.joblib']"
      ]
     },
     "execution_count": 11,
     "metadata": {},
     "output_type": "execute_result"
    }
   ],
   "source": [
    "from joblib import dump\n",
    "\n",
    "# Save the model to a file\n",
    "dump(classifiers[\"MLP_classifier\"], 'model.joblib')"
   ]
  }
 ],
 "metadata": {
  "kernelspec": {
   "display_name": "Python 3 (ipykernel)",
   "language": "python",
   "name": "python3"
  },
  "language_info": {
   "codemirror_mode": {
    "name": "ipython",
    "version": 3
   },
   "file_extension": ".py",
   "mimetype": "text/x-python",
   "name": "python",
   "nbconvert_exporter": "python",
   "pygments_lexer": "ipython3",
   "version": "3.11.5"
  }
 },
 "nbformat": 4,
 "nbformat_minor": 5
}
